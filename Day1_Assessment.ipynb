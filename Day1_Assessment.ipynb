There are no expectations of you knowing the answers to these questions. The point of the exercise is to get you to start thinking about these questions, and, at this stage, there are no right or wrong answers. Please just write whatever comes to mind and have fun with it!

1. In your own words, describe what you think the discipline biophysics is about. 
  
2. What kinds of systems are biophysicists studying?

3. How big (or small) are the systems that biophysicists study?

4. How do biophysicists use computational tools to study these systems?

5. Why are computational models used to study systems in biophysics?

6. Give 3 examples of an everyday process that you’re familiar with that you think a biophysicist would study.

7. Name a biophysicist and their contributions (other than Asja)

8. What are some biophysics topics you are interested in? 
  
9. What is something you’re excited to learn about in this class?
  
10. Is there a topic that you know about in biophysics that you’re excited to bring to the class (or further explore in a project)?
