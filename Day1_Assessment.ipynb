{
  "nbformat": 4,
  "nbformat_minor": 0,
  "metadata": {
    "colab": {
      "provenance": [],
      "authorship_tag": "ABX9TyP1GPVXyLypwoq5os9J35y+",
      "include_colab_link": true
    },
    "kernelspec": {
      "name": "python3",
      "display_name": "Python 3"
    },
    "language_info": {
      "name": "python"
    }
  },
  "cells": [
    {
      "cell_type": "markdown",
      "metadata": {
        "id": "view-in-github",
        "colab_type": "text"
      },
      "source": [
        "<a href=\"https://colab.research.google.com/github/asjaradja/CompMethBioPhys/blob/main/Day1_Assessment.ipynb\" target=\"_parent\"><img src=\"https://colab.research.google.com/assets/colab-badge.svg\" alt=\"Open In Colab\"/></a>"
      ]
    },
    {
      "cell_type": "markdown",
      "source": [
        "There is no expectation of you knowing the answers to these questions. The point of the exercise is to get you to start thinking about these questions, and, at this stage, there are no right or wrong answers. Please just write whatever comes to mind and have fun with it!\n"
      ],
      "metadata": {
        "id": "oHRxWPlfxQXp"
      }
    },
    {
      "cell_type": "markdown",
      "source": [
        "1. In your own words, describe what you think the discipline biophysics is about.\n"
      ],
      "metadata": {
        "id": "3vqIezpbxQZ5"
      }
    },
    {
      "cell_type": "markdown",
      "source": [],
      "metadata": {
        "id": "atdqDIIyxfgy"
      }
    },
    {
      "cell_type": "markdown",
      "source": [
        "2. What kinds of systems are biophysicists studying?"
      ],
      "metadata": {
        "id": "Fu2IXTanxgdB"
      }
    },
    {
      "cell_type": "markdown",
      "source": [],
      "metadata": {
        "id": "m7c-mUFJxiGB"
      }
    },
    {
      "cell_type": "markdown",
      "source": [
        "3. How big (or small) are the systems that biophysicists study?"
      ],
      "metadata": {
        "id": "6E-i15FexjYk"
      }
    },
    {
      "cell_type": "markdown",
      "source": [],
      "metadata": {
        "id": "jyG5526SxjrR"
      }
    },
    {
      "cell_type": "markdown",
      "source": [
        "4. How do biophysicists use computational tools to study these systems?"
      ],
      "metadata": {
        "id": "KwVu4dBtxlYA"
      }
    },
    {
      "cell_type": "markdown",
      "source": [],
      "metadata": {
        "id": "QR77JSzOxlkT"
      }
    },
    {
      "cell_type": "markdown",
      "source": [
        "5. Why are computational models used to study systems in biophysics?"
      ],
      "metadata": {
        "id": "69aUnH4AxltH"
      }
    },
    {
      "cell_type": "markdown",
      "source": [],
      "metadata": {
        "id": "-YCTmiPvxl0j"
      }
    },
    {
      "cell_type": "markdown",
      "source": [
        "6. Give 3 examples of an everyday process that you’re familiar with that you think a biophysicist would study."
      ],
      "metadata": {
        "id": "3C0gaLDhxl7R"
      }
    },
    {
      "cell_type": "markdown",
      "source": [],
      "metadata": {
        "id": "3CGy3GkhxmB1"
      }
    },
    {
      "cell_type": "markdown",
      "source": [
        "7. Name a biophysicist and their contributions (other than Asja)"
      ],
      "metadata": {
        "id": "9C_Xe_tQxmIl"
      }
    },
    {
      "cell_type": "markdown",
      "source": [],
      "metadata": {
        "id": "AaQuJagIxmOm"
      }
    },
    {
      "cell_type": "markdown",
      "source": [
        "8. What are some biophysics topics you are interested in?"
      ],
      "metadata": {
        "id": "LxyOLhRjxmU5"
      }
    },
    {
      "cell_type": "markdown",
      "source": [],
      "metadata": {
        "id": "cKT2SSEWxmay"
      }
    },
    {
      "cell_type": "markdown",
      "source": [
        "9. What is something you’re excited to learn about in this class?"
      ],
      "metadata": {
        "id": "cD8_5G6DxmgG"
      }
    },
    {
      "cell_type": "markdown",
      "source": [],
      "metadata": {
        "id": "wPEnV1Ojxmll"
      }
    },
    {
      "cell_type": "markdown",
      "source": [
        "10. Is there a topic that you know about in biophysics that you’re excited to bring to the class (or further explore in a project)?"
      ],
      "metadata": {
        "id": "iLMSH-Q4xmrV"
      }
    },
    {
      "cell_type": "markdown",
      "source": [],
      "metadata": {
        "id": "Pnx1U2rCxmxE"
      }
    }
  ]
}