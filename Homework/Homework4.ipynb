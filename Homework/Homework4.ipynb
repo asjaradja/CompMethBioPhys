{
  "nbformat": 4,
  "nbformat_minor": 0,
  "metadata": {
    "colab": {
      "provenance": [],
      "authorship_tag": "ABX9TyNwZ46s2SrjbJ78p8vqM/uH",
      "include_colab_link": true
    },
    "kernelspec": {
      "name": "python3",
      "display_name": "Python 3"
    },
    "language_info": {
      "name": "python"
    }
  },
  "cells": [
    {
      "cell_type": "markdown",
      "metadata": {
        "id": "view-in-github",
        "colab_type": "text"
      },
      "source": [
        "<a href=\"https://colab.research.google.com/github/asjaradja/CompMethBioPhys/blob/main/Homework/Homework4.ipynb\" target=\"_parent\"><img src=\"https://colab.research.google.com/assets/colab-badge.svg\" alt=\"Open In Colab\"/></a>"
      ]
    },
    {
      "cell_type": "markdown",
      "source": [
        "1. Please finish the class notes for topic 4: Agent-based models"
      ],
      "metadata": {
        "id": "i9VYcF9fKFmc"
      }
    },
    {
      "cell_type": "code",
      "source": [],
      "metadata": {
        "id": "3TK5Gv7YKZAP"
      },
      "execution_count": null,
      "outputs": []
    },
    {
      "cell_type": "markdown",
      "source": [
        "2. Think of another rule to add to your model! Be creative! Perhaps you add a food source for your prey to eat that is spatially randomly distributed, or maybe you add some sort of lifetime for each organism, or maybe the predators take a few steps before replicating after they've eaten their prey. You can do anything! Just explain your added rule, then implement it and explore it computationally."
      ],
      "metadata": {
        "id": "U0gBJUtoKZWN"
      }
    },
    {
      "cell_type": "markdown",
      "source": [
        "Write your rule and explain it here:"
      ],
      "metadata": {
        "id": "9Hl31e-5LAeO"
      }
    },
    {
      "cell_type": "code",
      "source": [
        "# write your code implementing your new rule here"
      ],
      "metadata": {
        "id": "yh41oqgRLCGo"
      },
      "execution_count": null,
      "outputs": []
    }
  ]
}