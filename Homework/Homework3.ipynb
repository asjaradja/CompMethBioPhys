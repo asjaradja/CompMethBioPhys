{
  "nbformat": 4,
  "nbformat_minor": 0,
  "metadata": {
    "colab": {
      "provenance": [],
      "authorship_tag": "ABX9TyMQpofgD9PvSJFMobnpd+7r",
      "include_colab_link": true
    },
    "kernelspec": {
      "name": "python3",
      "display_name": "Python 3"
    },
    "language_info": {
      "name": "python"
    }
  },
  "cells": [
    {
      "cell_type": "markdown",
      "metadata": {
        "id": "view-in-github",
        "colab_type": "text"
      },
      "source": [
        "<a href=\"https://colab.research.google.com/github/asjaradja/CompMethBioPhys/blob/main/Homework/Homework3.ipynb\" target=\"_parent\"><img src=\"https://colab.research.google.com/assets/colab-badge.svg\" alt=\"Open In Colab\"/></a>"
      ]
    },
    {
      "cell_type": "markdown",
      "source": [
        "1. **Exploring initial conditions** Using the same model parameters we explored in class, explore computationally what happens if you start out with:\n",
        "\n",
        " a. a uniform distribution of both inhibitor and activator?\n",
        "\n",
        " b. no inhibitor but a random distribution of activator?\n",
        "\n",
        "  Explain for each case why your computational result makes sense. You should be interpreting the reaction-diffusion equation (you can play with it a little to test your understanding)."
      ],
      "metadata": {
        "id": "u34s97rK9mkg"
      }
    },
    {
      "cell_type": "markdown",
      "source": [
        "Write your answer here"
      ],
      "metadata": {
        "id": "kYrneQ6N9RpB"
      }
    },
    {
      "cell_type": "code",
      "source": [
        "Write your code here"
      ],
      "metadata": {
        "id": "3aZp_c72eQ1m"
      },
      "execution_count": null,
      "outputs": []
    },
    {
      "cell_type": "markdown",
      "source": [
        "2. **Activator does not activate inhibitor** Explore computationally what would happen if the activator only activates itself but not the inhibitor? What happens if you start with no inhibitor? Explain your computational results."
      ],
      "metadata": {
        "id": "5agrs4LGyeKd"
      }
    },
    {
      "cell_type": "markdown",
      "source": [
        "Write your answer here"
      ],
      "metadata": {
        "id": "00hjcLa9c7DL"
      }
    },
    {
      "cell_type": "code",
      "source": [
        "Write your code here"
      ],
      "metadata": {
        "id": "Nbc9IHJgeU2U"
      },
      "execution_count": null,
      "outputs": []
    },
    {
      "cell_type": "markdown",
      "source": [
        "3. Let's now explore a different set of reaction equations for our reaction-diffusion model. We will look at the Gierer-Meinhardt model. You can read more about the background of it here: https://link.springer.com/article/10.1007/s10994-023-06334-9#code-availability, but the equations are as follows:\n",
        "\n",
        "\n",
        "$\\frac{\\partial a}{\\partial t} = D_a \\Delta a+ \\alpha - \\beta a + \\frac{a^2}{h(1+ \\kappa a^2)} $\n",
        "\n",
        "$\\frac{\\partial h}{\\partial t} = D_h \\Delta h + a^2 - h $\n",
        "\n",
        "\n",
        "where $a$ is the activator and $h$ is the inhibitor.\n",
        "\n",
        "Explore this Gierer-Meinhardt model by plotting out the evolution of patterning for the following parameters: (T is the total time)\n",
        "1. $D_a$, $D_h$, $\\alpha$, $\\beta$, $\\kappa$, $T$ = 1, 40, 0.01, 1.2, 0.7, 100\n",
        "2. $D_a$, $D_h$, $\\alpha$, $\\beta$, $\\kappa$, $T$ = 1, 50, 0.01, 1.2, 0.1, 40\n",
        "3. $D_a$, $D_h$, $\\alpha$, $\\beta$, $\\kappa$, $T$ = 1, 25, 0.02, 1.0, 0.5, 500\n",
        "\n",
        "Use a size of 128 for your 2D square grid, a step size of $dx = 1$, $dt = 0.001$, and start with random initial conditions.\n",
        "\n",
        "Show your pattern results - what patterns did you get?\n"
      ],
      "metadata": {
        "id": "CNn4hyw9kkHy"
      }
    },
    {
      "cell_type": "code",
      "source": [
        "Write your code here"
      ],
      "metadata": {
        "id": "aeK_EaFmeZHU"
      },
      "execution_count": null,
      "outputs": []
    }
  ]
}